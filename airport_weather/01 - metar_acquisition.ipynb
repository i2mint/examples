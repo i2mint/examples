{
 "cells": [
  {
   "cell_type": "code",
   "execution_count": 6,
   "metadata": {
    "ExecuteTime": {
     "end_time": "2019-10-08T22:48:52.613422Z",
     "start_time": "2019-10-08T22:48:52.588895Z"
    }
   },
   "outputs": [],
   "source": [
    "from metar_acquisition import acquire_metar_data, store, get_all_data_as_df, s3_kwargs, MyStore"
   ]
  },
  {
   "cell_type": "code",
   "execution_count": 10,
   "metadata": {
    "ExecuteTime": {
     "end_time": "2019-10-08T22:43:12.066051Z",
     "start_time": "2019-10-08T22:43:03.030088Z"
    }
   },
   "outputs": [],
   "source": [
    "df = get_all_data_as_df()"
   ]
  },
  {
   "cell_type": "code",
   "execution_count": 11,
   "metadata": {
    "ExecuteTime": {
     "end_time": "2019-10-08T22:43:12.095153Z",
     "start_time": "2019-10-08T22:43:12.067692Z"
    }
   },
   "outputs": [
    {
     "data": {
      "text/plain": [
       "(112, 23)"
      ]
     },
     "execution_count": 11,
     "metadata": {},
     "output_type": "execute_result"
    }
   ],
   "source": [
    "df.shape"
   ]
  },
  {
   "cell_type": "code",
   "execution_count": 12,
   "metadata": {
    "ExecuteTime": {
     "end_time": "2019-10-08T22:43:17.882171Z",
     "start_time": "2019-10-08T22:43:17.446722Z"
    }
   },
   "outputs": [
    {
     "data": {
      "text/html": [
       "<div>\n",
       "<style scoped>\n",
       "    .dataframe tbody tr th:only-of-type {\n",
       "        vertical-align: middle;\n",
       "    }\n",
       "\n",
       "    .dataframe tbody tr th {\n",
       "        vertical-align: top;\n",
       "    }\n",
       "\n",
       "    .dataframe thead th {\n",
       "        text-align: right;\n",
       "    }\n",
       "</style>\n",
       "<table border=\"1\" class=\"dataframe\">\n",
       "  <thead>\n",
       "    <tr style=\"text-align: right;\">\n",
       "      <th></th>\n",
       "      <th>raw_text</th>\n",
       "      <th>station_id</th>\n",
       "      <th>observation_time</th>\n",
       "      <th>latitude</th>\n",
       "      <th>longitude</th>\n",
       "      <th>temp_c</th>\n",
       "      <th>dewpoint_c</th>\n",
       "      <th>wind_dir_degrees</th>\n",
       "      <th>wind_speed_kt</th>\n",
       "      <th>visibility_statute_mi</th>\n",
       "      <th>...</th>\n",
       "      <th>metar_type</th>\n",
       "      <th>elevation_m</th>\n",
       "      <th>wind_gust_kt</th>\n",
       "      <th>sea_level_pressure_mb</th>\n",
       "      <th>quality_control_flags</th>\n",
       "      <th>three_hr_pressure_tendency_mb</th>\n",
       "      <th>maxT_c</th>\n",
       "      <th>minT_c</th>\n",
       "      <th>maxT24hr_c</th>\n",
       "      <th>minT24hr_c</th>\n",
       "    </tr>\n",
       "  </thead>\n",
       "  <tbody>\n",
       "    <tr>\n",
       "      <th>0</th>\n",
       "      <td>KPAO 052247Z 32011KT 10SM SKC 27/04 A3004</td>\n",
       "      <td>KPAO</td>\n",
       "      <td>2019-10-05T22:47:00Z</td>\n",
       "      <td>37.47</td>\n",
       "      <td>-122.12</td>\n",
       "      <td>27.0</td>\n",
       "      <td>4.0</td>\n",
       "      <td>320</td>\n",
       "      <td>11</td>\n",
       "      <td>10.0</td>\n",
       "      <td>...</td>\n",
       "      <td>METAR</td>\n",
       "      <td>2.0</td>\n",
       "      <td>NaN</td>\n",
       "      <td>NaN</td>\n",
       "      <td>NaN</td>\n",
       "      <td>NaN</td>\n",
       "      <td>NaN</td>\n",
       "      <td>NaN</td>\n",
       "      <td>NaN</td>\n",
       "      <td>NaN</td>\n",
       "    </tr>\n",
       "    <tr>\n",
       "      <th>1</th>\n",
       "      <td>KPAO 052347Z 33013KT 10SM SKC 26/02 A3002</td>\n",
       "      <td>KPAO</td>\n",
       "      <td>2019-10-05T23:47:00Z</td>\n",
       "      <td>37.47</td>\n",
       "      <td>-122.12</td>\n",
       "      <td>26.0</td>\n",
       "      <td>2.0</td>\n",
       "      <td>330</td>\n",
       "      <td>13</td>\n",
       "      <td>10.0</td>\n",
       "      <td>...</td>\n",
       "      <td>METAR</td>\n",
       "      <td>2.0</td>\n",
       "      <td>NaN</td>\n",
       "      <td>NaN</td>\n",
       "      <td>NaN</td>\n",
       "      <td>NaN</td>\n",
       "      <td>NaN</td>\n",
       "      <td>NaN</td>\n",
       "      <td>NaN</td>\n",
       "      <td>NaN</td>\n",
       "    </tr>\n",
       "    <tr>\n",
       "      <th>2</th>\n",
       "      <td>KPAO 060047Z 32008KT 10SM SKC 26/02 A3001</td>\n",
       "      <td>KPAO</td>\n",
       "      <td>2019-10-06T00:47:00Z</td>\n",
       "      <td>37.47</td>\n",
       "      <td>-122.12</td>\n",
       "      <td>26.0</td>\n",
       "      <td>2.0</td>\n",
       "      <td>320</td>\n",
       "      <td>8</td>\n",
       "      <td>10.0</td>\n",
       "      <td>...</td>\n",
       "      <td>METAR</td>\n",
       "      <td>2.0</td>\n",
       "      <td>NaN</td>\n",
       "      <td>NaN</td>\n",
       "      <td>NaN</td>\n",
       "      <td>NaN</td>\n",
       "      <td>NaN</td>\n",
       "      <td>NaN</td>\n",
       "      <td>NaN</td>\n",
       "      <td>NaN</td>\n",
       "    </tr>\n",
       "    <tr>\n",
       "      <th>3</th>\n",
       "      <td>KPAO 060147Z 34007KT 10SM SKC 20/11 A3002 RMK ...</td>\n",
       "      <td>KPAO</td>\n",
       "      <td>2019-10-06T01:47:00Z</td>\n",
       "      <td>37.47</td>\n",
       "      <td>-122.12</td>\n",
       "      <td>20.0</td>\n",
       "      <td>11.0</td>\n",
       "      <td>340</td>\n",
       "      <td>7</td>\n",
       "      <td>10.0</td>\n",
       "      <td>...</td>\n",
       "      <td>METAR</td>\n",
       "      <td>2.0</td>\n",
       "      <td>NaN</td>\n",
       "      <td>NaN</td>\n",
       "      <td>NaN</td>\n",
       "      <td>NaN</td>\n",
       "      <td>NaN</td>\n",
       "      <td>NaN</td>\n",
       "      <td>NaN</td>\n",
       "      <td>NaN</td>\n",
       "    </tr>\n",
       "    <tr>\n",
       "      <th>4</th>\n",
       "      <td>KPAO 060247Z 35007KT 10SM SKC 17/12 A3003 RMK ...</td>\n",
       "      <td>KPAO</td>\n",
       "      <td>2019-10-06T02:47:00Z</td>\n",
       "      <td>37.47</td>\n",
       "      <td>-122.12</td>\n",
       "      <td>17.0</td>\n",
       "      <td>12.0</td>\n",
       "      <td>350</td>\n",
       "      <td>7</td>\n",
       "      <td>10.0</td>\n",
       "      <td>...</td>\n",
       "      <td>SPECI</td>\n",
       "      <td>2.0</td>\n",
       "      <td>NaN</td>\n",
       "      <td>NaN</td>\n",
       "      <td>NaN</td>\n",
       "      <td>NaN</td>\n",
       "      <td>NaN</td>\n",
       "      <td>NaN</td>\n",
       "      <td>NaN</td>\n",
       "      <td>NaN</td>\n",
       "    </tr>\n",
       "  </tbody>\n",
       "</table>\n",
       "<p>5 rows × 23 columns</p>\n",
       "</div>"
      ],
      "text/plain": [
       "                                            raw_text station_id  \\\n",
       "0          KPAO 052247Z 32011KT 10SM SKC 27/04 A3004       KPAO   \n",
       "1          KPAO 052347Z 33013KT 10SM SKC 26/02 A3002       KPAO   \n",
       "2          KPAO 060047Z 32008KT 10SM SKC 26/02 A3001       KPAO   \n",
       "3  KPAO 060147Z 34007KT 10SM SKC 20/11 A3002 RMK ...       KPAO   \n",
       "4  KPAO 060247Z 35007KT 10SM SKC 17/12 A3003 RMK ...       KPAO   \n",
       "\n",
       "       observation_time latitude longitude temp_c dewpoint_c wind_dir_degrees  \\\n",
       "0  2019-10-05T22:47:00Z    37.47   -122.12   27.0        4.0              320   \n",
       "1  2019-10-05T23:47:00Z    37.47   -122.12   26.0        2.0              330   \n",
       "2  2019-10-06T00:47:00Z    37.47   -122.12   26.0        2.0              320   \n",
       "3  2019-10-06T01:47:00Z    37.47   -122.12   20.0       11.0              340   \n",
       "4  2019-10-06T02:47:00Z    37.47   -122.12   17.0       12.0              350   \n",
       "\n",
       "  wind_speed_kt visibility_statute_mi  ... metar_type elevation_m  \\\n",
       "0            11                  10.0  ...      METAR         2.0   \n",
       "1            13                  10.0  ...      METAR         2.0   \n",
       "2             8                  10.0  ...      METAR         2.0   \n",
       "3             7                  10.0  ...      METAR         2.0   \n",
       "4             7                  10.0  ...      SPECI         2.0   \n",
       "\n",
       "  wind_gust_kt sea_level_pressure_mb quality_control_flags  \\\n",
       "0          NaN                   NaN                   NaN   \n",
       "1          NaN                   NaN                   NaN   \n",
       "2          NaN                   NaN                   NaN   \n",
       "3          NaN                   NaN                   NaN   \n",
       "4          NaN                   NaN                   NaN   \n",
       "\n",
       "  three_hr_pressure_tendency_mb maxT_c minT_c maxT24hr_c minT24hr_c  \n",
       "0                           NaN    NaN    NaN        NaN        NaN  \n",
       "1                           NaN    NaN    NaN        NaN        NaN  \n",
       "2                           NaN    NaN    NaN        NaN        NaN  \n",
       "3                           NaN    NaN    NaN        NaN        NaN  \n",
       "4                           NaN    NaN    NaN        NaN        NaN  \n",
       "\n",
       "[5 rows x 23 columns]"
      ]
     },
     "execution_count": 12,
     "metadata": {},
     "output_type": "execute_result"
    }
   ],
   "source": [
    "df.head()"
   ]
  },
  {
   "cell_type": "code",
   "execution_count": null,
   "metadata": {},
   "outputs": [],
   "source": []
  }
 ],
 "metadata": {
  "kernelspec": {
   "display_name": "Python 3",
   "language": "python",
   "name": "python3"
  },
  "language_info": {
   "codemirror_mode": {
    "name": "ipython",
    "version": 3
   },
   "file_extension": ".py",
   "mimetype": "text/x-python",
   "name": "python",
   "nbconvert_exporter": "python",
   "pygments_lexer": "ipython3",
   "version": "3.7.4"
  },
  "latex_envs": {
   "LaTeX_envs_menu_present": true,
   "autoclose": false,
   "autocomplete": true,
   "bibliofile": "biblio.bib",
   "cite_by": "apalike",
   "current_citInitial": 1,
   "eqLabelWithNumbers": true,
   "eqNumInitial": 1,
   "hotkeys": {
    "equation": "Ctrl-E",
    "itemize": "Ctrl-I"
   },
   "labels_anchors": false,
   "latex_user_defs": false,
   "report_style_numbering": false,
   "user_envs_cfg": false
  },
  "toc": {
   "base_numbering": 1,
   "nav_menu": {},
   "number_sections": true,
   "sideBar": true,
   "skip_h1_title": false,
   "title_cell": "Table of Contents",
   "title_sidebar": "Contents",
   "toc_cell": false,
   "toc_position": {},
   "toc_section_display": true,
   "toc_window_display": false
  }
 },
 "nbformat": 4,
 "nbformat_minor": 2
}
