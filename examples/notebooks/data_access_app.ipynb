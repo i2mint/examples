{
 "cells": [
  {
   "cell_type": "markdown",
   "metadata": {
    "toc": true
   },
   "source": [
    "<h1>Table of Contents<span class=\"tocSkip\"></span></h1>\n",
    "<div class=\"toc\"><ul class=\"toc-item\"><li><span><a href=\"#The-backend-factory-code-(all-of-it!)\" data-toc-modified-id=\"The-backend-factory-code-(all-of-it!)-1\"><span class=\"toc-item-num\">1&nbsp;&nbsp;</span>The backend factory code (all of it!)</a></span></li><li><span><a href=\"#Make-a-data-storage-and-access-management-backend\" data-toc-modified-id=\"Make-a-data-storage-and-access-management-backend-2\"><span class=\"toc-item-num\">2&nbsp;&nbsp;</span>Make a data storage and access management backend</a></span></li><li><span><a href=\"#Play-around-with-it\" data-toc-modified-id=\"Play-around-with-it-3\"><span class=\"toc-item-num\">3&nbsp;&nbsp;</span>Play around with it</a></span></li></ul></div>"
   ]
  },
  {
   "cell_type": "markdown",
   "metadata": {},
   "source": [
    "# The backend factory code (all of it!)"
   ]
  },
  {
   "cell_type": "code",
   "execution_count": 1,
   "metadata": {
    "ExecuteTime": {
     "end_time": "2021-12-03T00:28:47.968057Z",
     "start_time": "2021-12-03T00:28:47.876558Z"
    }
   },
   "outputs": [],
   "source": [
    "\"\"\"\n",
    "An app that manages data access of users, using two stores: A blobs store\n",
    "(the data store) and an admin store (where the user information (including tokens)\n",
    "are stored.\n",
    "\"\"\"\n",
    "from typing import Mapping\n",
    "import re\n",
    "\n",
    "from dol import filt_iter, cache_iter, Pipe\n",
    "\n",
    "\n",
    "class BlobsMappingMixin:\n",
    "    \"\"\"Forwards mapping operations to blobs attribute\"\"\"\n",
    "\n",
    "    def __len__(self):\n",
    "        return len(self.blobs)\n",
    "\n",
    "    def __contains__(self, k):\n",
    "        return k in self.blobs\n",
    "\n",
    "    def __getitem__(self, k):\n",
    "        return self.blobs[k]\n",
    "\n",
    "    def __iter__(self):\n",
    "        return iter(self.blobs)\n",
    "\n",
    "\n",
    "class DataAccessCtrl(BlobsMappingMixin, Mapping):\n",
    "    key_is_permitted = None\n",
    "\n",
    "    def __init__(self, user, token, blobs, admin):\n",
    "        self.user = user\n",
    "        self.token = token\n",
    "        self.blobs = blobs\n",
    "        self.admin = admin\n",
    "        self._post_init()\n",
    "\n",
    "    def _post_init(self):\n",
    "        self.permissions = self.get_permissions(self.user, self.token)\n",
    "        self.key_is_permitted = mk_key_is_permitted(self.permissions)\n",
    "        self.blobs = cache_iter(filt_iter(self.blobs, filt=self.key_is_permitted))\n",
    "\n",
    "    def get_permissions(self, user, token):\n",
    "        try:\n",
    "            user_data = self.admin[user]\n",
    "        except KeyError:\n",
    "            raise IncorrectCredentials(f\"The user wasn't found: {user}\")\n",
    "        if user_data['token'] == self.token:\n",
    "            return user_data['permissions']\n",
    "        else:\n",
    "            raise IncorrectCredentials(f\"The user/token combo was incorrect: {user=}\")\n",
    "\n",
    "\n",
    "def mk_key_is_permitted(list_of_regular_expressions):\n",
    "    # merge the regular expressions into one (for efficiency)\n",
    "    merged = '|'.join(map(lambda expr: f\"({expr})\", list_of_regular_expressions))\n",
    "    # return the corresponding boolean matching function\n",
    "    return Pipe(re.compile(merged).match, bool)\n",
    "\n",
    "\n",
    "class IncorrectCredentials(RuntimeError):\n",
    "    \"\"\"To be used to indicate when a (user, token) combo wasn't found\"\"\"\n"
   ]
  },
  {
   "cell_type": "markdown",
   "metadata": {},
   "source": [
    "# Make a data storage and access management backend"
   ]
  },
  {
   "cell_type": "code",
   "execution_count": 2,
   "metadata": {
    "ExecuteTime": {
     "end_time": "2021-12-03T00:28:48.031178Z",
     "start_time": "2021-12-03T00:28:47.971332Z"
    }
   },
   "outputs": [],
   "source": [
    "# Mock admin store\n",
    "\n",
    "admin = {  # of course, this would be a persisted store (mongo perhaps?)\n",
    "    'alice': {\n",
    "        'token': '123',\n",
    "        'permissions': [\n",
    "            '.*\\.py$'  # access all .py files\n",
    "        ],\n",
    "    },\n",
    "    'bob': {\n",
    "        'token': '321',\n",
    "        'permissions': [\n",
    "            '.*__init__.py',  # all __init__.py files\n",
    "            'tests.*\\.py$',  # and py files that start with tests\n",
    "        ],\n",
    "    }\n",
    "}\n",
    "\n",
    "# Mock blob store (since dol is a dependency, use dol files as content)\n",
    "\n",
    "from dol.filesys import RelPathFileBytesReader\n",
    "from importlib_resources import files\n",
    "from functools import partial\n",
    "\n",
    "rootdir = str(files('dol'))\n",
    "\n",
    "get_access = partial(\n",
    "    DataAccessCtrl,\n",
    "    blobs=RelPathFileBytesReader(rootdir, max_levels=1),\n",
    "    admin=admin,\n",
    ")\n"
   ]
  },
  {
   "cell_type": "markdown",
   "metadata": {},
   "source": [
    "# Play around with it"
   ]
  },
  {
   "cell_type": "markdown",
   "metadata": {},
   "source": [
    "In real life, `get_access` and the stores it dishes out would be dispatched using `py2http`"
   ]
  },
  {
   "cell_type": "code",
   "execution_count": 3,
   "metadata": {
    "ExecuteTime": {
     "end_time": "2021-12-03T00:28:48.069500Z",
     "start_time": "2021-12-03T00:28:48.033289Z"
    }
   },
   "outputs": [
    {
     "data": {
      "text/plain": [
       "['filesys.py',\n",
       " 'mixins.py',\n",
       " 'paths.py',\n",
       " 'naming.py',\n",
       " 'util.py',\n",
       " 'tools.py',\n",
       " 'tests/base_test.py',\n",
       " 'tests/pickability_test.py',\n",
       " 'tests/__init__.py',\n",
       " 'tests/scrap.py',\n",
       " '__init__.py',\n",
       " 'core.py',\n",
       " 'appendable.py',\n",
       " 'sources.py',\n",
       " 'dig.py',\n",
       " 'caching.py',\n",
       " 'signatures.py',\n",
       " 'trans.py',\n",
       " 'errors.py',\n",
       " 'base.py']"
      ]
     },
     "execution_count": 3,
     "metadata": {},
     "output_type": "execute_result"
    }
   ],
   "source": [
    "alice = get_access(\n",
    "    user='alice',\n",
    "    token='123',\n",
    ")\n",
    "list(alice)"
   ]
  },
  {
   "cell_type": "code",
   "execution_count": 4,
   "metadata": {
    "ExecuteTime": {
     "end_time": "2021-12-03T00:28:48.103228Z",
     "start_time": "2021-12-03T00:28:48.072071Z"
    }
   },
   "outputs": [
    {
     "data": {
      "text/plain": [
       "20"
      ]
     },
     "execution_count": 4,
     "metadata": {},
     "output_type": "execute_result"
    }
   ],
   "source": [
    "len(alice)"
   ]
  },
  {
   "cell_type": "code",
   "execution_count": 5,
   "metadata": {
    "ExecuteTime": {
     "end_time": "2021-12-03T00:28:48.138458Z",
     "start_time": "2021-12-03T00:28:48.105805Z"
    }
   },
   "outputs": [
    {
     "data": {
      "text/plain": [
       "True"
      ]
     },
     "execution_count": 5,
     "metadata": {},
     "output_type": "execute_result"
    }
   ],
   "source": [
    "'base.py' in alice"
   ]
  },
  {
   "cell_type": "code",
   "execution_count": 6,
   "metadata": {
    "ExecuteTime": {
     "end_time": "2021-12-03T00:28:48.308993Z",
     "start_time": "2021-12-03T00:28:48.274909Z"
    }
   },
   "outputs": [
    {
     "data": {
      "text/plain": [
       "['tests/base_test.py',\n",
       " 'tests/pickability_test.py',\n",
       " 'tests/__init__.py',\n",
       " 'tests/scrap.py',\n",
       " '__init__.py']"
      ]
     },
     "execution_count": 6,
     "metadata": {},
     "output_type": "execute_result"
    }
   ],
   "source": [
    "bob = get_access(\n",
    "    user='bob',\n",
    "    token='321',\n",
    ")\n",
    "list(bob)"
   ]
  },
  {
   "cell_type": "code",
   "execution_count": 7,
   "metadata": {
    "ExecuteTime": {
     "end_time": "2021-12-03T00:28:49.149805Z",
     "start_time": "2021-12-03T00:28:49.121949Z"
    }
   },
   "outputs": [
    {
     "name": "stdout",
     "output_type": "stream",
     "text": [
      "\"\"\"Core tools to build simple interfaces to complex data sources and bend the interface to\n"
     ]
    }
   ],
   "source": [
    "# we have access to content\n",
    "print(bob['__init__.py'][:90].decode())"
   ]
  },
  {
   "cell_type": "code",
   "execution_count": 8,
   "metadata": {
    "ExecuteTime": {
     "end_time": "2021-12-03T00:28:50.196227Z",
     "start_time": "2021-12-03T00:28:50.166694Z"
    }
   },
   "outputs": [],
   "source": [
    "assert 'base.py' in alice\n",
    "assert 'base.py' not in bob"
   ]
  },
  {
   "cell_type": "code",
   "execution_count": 9,
   "metadata": {
    "ExecuteTime": {
     "end_time": "2021-12-03T00:28:50.533049Z",
     "start_time": "2021-12-03T00:28:50.502601Z"
    }
   },
   "outputs": [
    {
     "name": "stdout",
     "output_type": "stream",
     "text": [
      "KeyError, as expected!\n"
     ]
    }
   ],
   "source": [
    "try:\n",
    "    bob['base.py']\n",
    "except KeyError:\n",
    "    print(\"KeyError, as expected!\")"
   ]
  },
  {
   "cell_type": "code",
   "execution_count": 10,
   "metadata": {
    "ExecuteTime": {
     "end_time": "2021-12-03T00:28:51.012419Z",
     "start_time": "2021-12-03T00:28:50.978402Z"
    }
   },
   "outputs": [
    {
     "name": "stdout",
     "output_type": "stream",
     "text": [
      "IncorrectCredentials as expected!\n"
     ]
    }
   ],
   "source": [
    "try:\n",
    "    hacker = get_access(\n",
    "        user='alice',\n",
    "        token='password'  # but that's not the right token!\n",
    "    )\n",
    "except IncorrectCredentials as e:\n",
    "    print(\"IncorrectCredentials as expected!\")"
   ]
  },
  {
   "cell_type": "code",
   "execution_count": null,
   "metadata": {},
   "outputs": [],
   "source": []
  },
  {
   "cell_type": "code",
   "execution_count": null,
   "metadata": {},
   "outputs": [],
   "source": []
  },
  {
   "cell_type": "code",
   "execution_count": null,
   "metadata": {},
   "outputs": [],
   "source": []
  },
  {
   "cell_type": "code",
   "execution_count": null,
   "metadata": {},
   "outputs": [],
   "source": []
  },
  {
   "cell_type": "code",
   "execution_count": null,
   "metadata": {},
   "outputs": [],
   "source": []
  },
  {
   "cell_type": "code",
   "execution_count": null,
   "metadata": {},
   "outputs": [],
   "source": []
  }
 ],
 "metadata": {
  "kernelspec": {
   "display_name": "Python 3",
   "language": "python",
   "name": "python3"
  },
  "language_info": {
   "codemirror_mode": {
    "name": "ipython",
    "version": 3
   },
   "file_extension": ".py",
   "mimetype": "text/x-python",
   "name": "python",
   "nbconvert_exporter": "python",
   "pygments_lexer": "ipython3",
   "version": "3.8.6"
  },
  "latex_envs": {
   "LaTeX_envs_menu_present": true,
   "autoclose": false,
   "autocomplete": true,
   "bibliofile": "biblio.bib",
   "cite_by": "apalike",
   "current_citInitial": 1,
   "eqLabelWithNumbers": true,
   "eqNumInitial": 1,
   "hotkeys": {
    "equation": "Ctrl-E",
    "itemize": "Ctrl-I"
   },
   "labels_anchors": false,
   "latex_user_defs": false,
   "report_style_numbering": false,
   "user_envs_cfg": false
  },
  "toc": {
   "base_numbering": 1,
   "nav_menu": {},
   "number_sections": true,
   "sideBar": true,
   "skip_h1_title": false,
   "title_cell": "Table of Contents",
   "title_sidebar": "Contents",
   "toc_cell": true,
   "toc_position": {},
   "toc_section_display": true,
   "toc_window_display": true
  }
 },
 "nbformat": 4,
 "nbformat_minor": 2
}
